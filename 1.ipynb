{
 "cells": [
  {
   "cell_type": "code",
   "execution_count": 1,
   "metadata": {},
   "outputs": [],
   "source": [
    "from selenium import webdriver\n",
    "from selenium.webdriver.chrome.options import Options\n",
    "import chromedriver_autoinstaller\n",
    "import subprocess\n",
    "import time\n",
    "from bs4 import BeautifulSoup\n",
    "import re\n",
    "from selenium.webdriver.common.by import By\n",
    "import pandas as pd\n",
    "\n",
    "\n",
    "subprocess.Popen(r'C:\\Program Files\\Google\\Chrome\\Application\\chrome.exe --remote-debugging-port=9222 --user-data-dir=\"C:\\chrometemp\"') # 디버거 크롬 구동\n",
    "\n",
    "option = Options()\n",
    "option.add_experimental_option(\"debuggerAddress\", \"127.0.0.1:9222\")\n",
    "\n",
    "chrome_ver = chromedriver_autoinstaller.get_chrome_version().split('.')[0]\n",
    "try:\n",
    "    driver = webdriver.Chrome(f'./{chrome_ver}/chromedriver.exe', options=option)\n",
    "except:\n",
    "    chromedriver_autoinstaller.install(True)\n",
    "    driver = webdriver.Chrome(f'./{chrome_ver}/chromedriver.exe', options=option)\n",
    "driver.implicitly_wait(5)\n",
    "\n",
    "\n",
    "# CSV 파일 읽기 (같은 폴더에 있는 경우)\n",
    "df = pd.read_csv('TurtleMinervini_09-16.csv')\n",
    "\n",
    "url = 'https://nid.naver.com/'\n",
    "\n",
    "driver.get(url)\n",
    "\n",
    "time.sleep(3)\n",
    "\n"
   ]
  },
  {
   "cell_type": "code",
   "execution_count": 6,
   "metadata": {},
   "outputs": [],
   "source": [
    "    # 네이버 증권 검색 페이지 접속\n",
    "target_url = f'https://finance.naver.com/item/main.nhn?code=005930'\n",
    "driver.get(target_url)\n",
    "    "
   ]
  },
  {
   "cell_type": "code",
   "execution_count": 7,
   "metadata": {},
   "outputs": [],
   "source": [
    "driver.find_element_by_xpath('//*[@id=\"middle\"]/div[1]/div[2]/p/a[1]').click()\n",
    "driver.find_element_by_xpath('/html/body/div[4]/div[1]/p[1]/button').click()\n",
    "from datetime import datetime\n",
    "\n",
    "# 현재 날짜 가져오기\n",
    "current_date = datetime.now().strftime(\"%Y-%m-%d\")\n",
    "\n",
    "# '추천 리스트' 문자열과 결합\n",
    "final_string = f\"{current_date} 추천 리스트\"\n",
    "\n",
    "time.sleep(2)\n",
    "\n",
    "# 특정 입력 필드를 찾고 value 속성을 final_string으로 설정\n",
    "input_field = driver.find_element_by_css_selector('input.input_txt')\n",
    "driver.execute_script(f\"arguments[0].value = '{final_string}';\", input_field)"
   ]
  },
  {
   "cell_type": "code",
   "execution_count": null,
   "metadata": {},
   "outputs": [
    {
     "name": "stdout",
     "output_type": "stream",
     "text": [
      "After login, current URL: https://finance.naver.com/\n",
      "Trying to navigate to the page of ticker: 005830\n",
      "Current URL: https://finance.naver.com/item/main.nhn?code=005830\n",
      "Failed to add ticker: 5830\n",
      "Trying to navigate to the page of ticker: 196170\n",
      "Current URL: https://finance.naver.com/item/main.nhn?code=196170\n",
      "Successfully added ticker: 196170\n",
      "Trying to navigate to the page of ticker: 005385\n",
      "Current URL: https://finance.naver.com/item/main.nhn?code=005385\n",
      "Successfully added ticker: 5385\n",
      "Trying to navigate to the page of ticker: 081660\n",
      "Current URL: https://finance.naver.com/item/main.nhn?code=081660\n",
      "Successfully added ticker: 81660\n",
      "Trying to navigate to the page of ticker: 240810\n",
      "Current URL: https://finance.naver.com/item/main.nhn?code=240810\n",
      "Successfully added ticker: 240810\n",
      "Trying to navigate to the page of ticker: 084370\n",
      "Current URL: https://finance.naver.com/item/main.nhn?code=084370\n",
      "Successfully added ticker: 84370\n",
      "Trying to navigate to the page of ticker: 001530\n",
      "Current URL: https://finance.naver.com/item/main.nhn?code=001530\n",
      "Successfully added ticker: 1530\n",
      "Trying to navigate to the page of ticker: 357120\n",
      "Current URL: https://finance.naver.com/item/main.nhn?code=357120\n",
      "Successfully added ticker: 357120\n",
      "Trying to navigate to the page of ticker: 101160\n",
      "Current URL: https://finance.naver.com/item/main.nhn?code=101160\n",
      "Successfully added ticker: 101160\n",
      "Trying to navigate to the page of ticker: 077500\n",
      "Current URL: https://finance.naver.com/item/main.nhn?code=077500\n",
      "Successfully added ticker: 77500\n",
      "Trying to navigate to the page of ticker: 382800\n",
      "Current URL: https://finance.naver.com/item/main.nhn?code=382800\n",
      "Successfully added ticker: 382800\n",
      "Trying to navigate to the page of ticker: 005389\n",
      "Current URL: https://finance.naver.com/item/main.nhn?code=005389\n",
      "Successfully added ticker: 5389\n",
      "Trying to navigate to the page of ticker: 246720\n",
      "Current URL: https://finance.naver.com/item/main.nhn?code=246720\n",
      "Successfully added ticker: 246720\n",
      "Trying to navigate to the page of ticker: 197140\n",
      "Current URL: https://finance.naver.com/item/main.nhn?code=197140\n",
      "Successfully added ticker: 197140\n",
      "Trying to navigate to the page of ticker: 001275\n",
      "Current URL: https://finance.naver.com/item/main.nhn?code=001275\n",
      "Successfully added ticker: 1275\n",
      "Trying to navigate to the page of ticker: 367360\n",
      "Current URL: https://finance.naver.com/item/main.nhn?code=367360\n",
      "Successfully added ticker: 367360\n",
      "Trying to navigate to the page of ticker: 405350\n",
      "Current URL: https://finance.naver.com/item/main.nhn?code=405350\n",
      "Successfully added ticker: 405350\n"
     ]
    }
   ],
   "source": [
    "df = pd.read_csv('TurtleMinervini_09-16.csv')\n",
    "\n",
    "\n",
    "# 로그인 후 현재 URL 출력 (로그인 성공 여부 확인)\n",
    "print(f\"After login, current URL: {driver.current_url}\")\n",
    "\n",
    "# CSV에서 읽은 종목 리스트를 순회하면서 종목을 등록\n",
    "for ticker in df['Ticker']:  # 정수로 읽어진다고 가정\n",
    "    # 티커가 6자리가 되도록 앞에 '0'을 채움\n",
    "    ticker_str = str(ticker).zfill(6)\n",
    "    \n",
    "    # 티커 값 출력 (디버깅을 위해)\n",
    "    print(f\"Trying to navigate to the page of ticker: {ticker_str}\")\n",
    "    \n",
    "    # 네이버 증권 검색 페이지 접속\n",
    "    target_url = f'https://finance.naver.com/item/main.nhn?code={ticker_str}'\n",
    "    driver.get(target_url)\n",
    "    \n",
    "    \n",
    "    # 현재 페이지 URL 출력 (디버깅을 위해)\n",
    "    print(f\"Current URL: {driver.current_url}\")\n",
    "    \n",
    "    # 관심종목 등록 버튼을 클릭 (버튼의 XPath는 웹 페이지를 검사하여 알아내야 함)\n",
    "    try:\n",
    "        driver.find_element_by_xpath('//*[@id=\"middle\"]/div[1]/div[2]/p/a[1]').click()\n",
    "    # 관심종목 등록 버튼을 클릭\n",
    "        time.sleep(1)  # 팝업이 뜰 때까지 약간의 대기 시간을 줍니다.\n",
    "\n",
    "        \n",
    "\n",
    "# '관심종목 1' 그룹을 선택\n",
    "        driver.find_element_by_xpath(f\"//span[text()='{final_string}']\").click()\n",
    "        time.sleep(1)  # 선택 반영을 위해 약간의 대기 시간을 줍니다.\n",
    "        driver.find_element_by_xpath(\"/html/body/div[4]/div[1]/p[2]/button[1]\").click()\n",
    "        print(f\"Successfully added ticker: {ticker_str}\")\n",
    "    except:\n",
    "        print(f\"Failed to add ticker: {ticker_str}\")\n",
    "    \n",
    "    # 등록에 시간이 걸릴 수 있으므로 약간의 대기 시간을 줍니다.\n",
    "    time.sleep(2)\n"
   ]
  },
  {
   "cell_type": "code",
   "execution_count": null,
   "metadata": {},
   "outputs": [],
   "source": [
    "driver.find_element_by_xpath('//*[@id=\"middle\"]/div[1]/div[2]/p/a[1]').click()\n"
   ]
  },
  {
   "cell_type": "code",
   "execution_count": null,
   "metadata": {},
   "outputs": [],
   "source": [
    "driver.find_element_by_xpath('/html/body/div[4]/div[1]/p[1]/button').click()\n"
   ]
  },
  {
   "cell_type": "code",
   "execution_count": null,
   "metadata": {},
   "outputs": [],
   "source": [
    "from selenium import webdriver\n",
    "from datetime import datetime\n",
    "\n",
    "# 현재 날짜 가져오기\n",
    "current_date = datetime.now().strftime(\"%Y-%m-%d\")\n",
    "\n",
    "# '추천 리스트' 문자열과 결합\n",
    "final_string = f\"{current_date} 추천 리스트\"\n",
    "\n",
    "# 특정 입력 필드를 찾고 value 속성을 final_string으로 설정\n",
    "input_field = driver.find_element_by_css_selector('input.input_txt')\n",
    "driver.execute_script(f\"arguments[0].value = '{final_string}';\", input_field)\n"
   ]
  },
  {
   "cell_type": "code",
   "execution_count": null,
   "metadata": {},
   "outputs": [],
   "source": [
    "driver.find_element_by_xpath('/html/body/div[4]/div[1]/div[1]/ul/li[4]/a[1]').click()"
   ]
  },
  {
   "cell_type": "code",
   "execution_count": null,
   "metadata": {},
   "outputs": [],
   "source": [
    "driver.find_element_by_xpath('//*[@id=\"middle\"]/div[1]/div[2]/p/a[1]').click()\n",
    "driver.find_element_by_xpath('/html/body/div[4]/div[1]/p[1]/button').click()\n",
    "from datetime import datetime\n",
    "\n",
    "# 현재 날짜 가져오기\n",
    "current_date = datetime.now().strftime(\"%Y-%m-%d\")\n",
    "\n",
    "# '추천 리스트' 문자열과 결합\n",
    "final_string = f\"{current_date} 추천 리스트\"\n",
    "\n",
    "# 특정 입력 필드를 찾고 value 속성을 final_string으로 설정\n",
    "input_field = driver.find_element_by_css_selector('input.input_txt')\n",
    "driver.execute_script(f\"arguments[0].value = '{final_string}';\", input_field)\n",
    "driver.find_element_by_xpath('/html/body/div[4]/div[1]/div[1]/ul/li[4]/a[1]').click()\n"
   ]
  }
 ],
 "metadata": {
  "kernelspec": {
   "display_name": "base",
   "language": "python",
   "name": "python3"
  },
  "language_info": {
   "codemirror_mode": {
    "name": "ipython",
    "version": 3
   },
   "file_extension": ".py",
   "mimetype": "text/x-python",
   "name": "python",
   "nbconvert_exporter": "python",
   "pygments_lexer": "ipython3",
   "version": "3.9.13"
  },
  "orig_nbformat": 4
 },
 "nbformat": 4,
 "nbformat_minor": 2
}
